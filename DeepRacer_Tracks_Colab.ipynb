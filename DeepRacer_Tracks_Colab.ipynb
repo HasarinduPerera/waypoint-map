{
  "cells": [
    {
      "cell_type": "code",
      "execution_count": 8,
      "metadata": {
        "id": "-2CC5O1PbdnA"
      },
      "outputs": [],
      "source": [
        "import numpy as np\n",
        "import matplotlib.pyplot as plt\n",
        "import requests\n",
        "import io\n",
        "from google.colab import files"
      ]
    },
    {
      "cell_type": "code",
      "execution_count": 9,
      "metadata": {
        "id": "_Ur1GObZhhl6"
      },
      "outputs": [],
      "source": [
        "tracks = {'march':'https://github.com/HasarinduPerera/waypoint-map/blob/main/tracks/2022_summit_speedway.npy?raw=true', \n",
        "          'april':'https://github.com/terrablader11/waypoint-map/blob/main/tracks/2022_march_open.npy?raw=true', \n",
        "          'may':'https://github.com/terrablader11/waypoint-map/blob/main/tracks/2022_april_open.npy?raw=true', \n",
        "          'june':'https://github.com/terrablader11/waypoint-map/blob/main/tracks/2022_may_open.npy?raw=true'}"
      ]
    },
    {
      "cell_type": "markdown",
      "metadata": {
        "id": "k3IiAZ7khhl8"
      },
      "source": [
        "### Replace `march` with the month you want. Then run rest of the code."
      ]
    },
    {
      "cell_type": "markdown",
      "metadata": {
        "id": "PZr_F-lPhhl-"
      },
      "source": [
        "Example: `month = 'may'`"
      ]
    },
    {
      "cell_type": "code",
      "execution_count": 10,
      "metadata": {
        "id": "7Rd0PBkNhhmA"
      },
      "outputs": [],
      "source": [
        "month = 'june'"
      ]
    },
    {
      "cell_type": "code",
      "execution_count": 11,
      "metadata": {
        "id": "R7IOv06XhhmC"
      },
      "outputs": [],
      "source": [
        "get_track = tracks[month]"
      ]
    },
    {
      "cell_type": "code",
      "source": [
        "response = requests.get(get_track)\n",
        "response.raise_for_status()\n",
        "data = np.load(io.BytesIO(response.content))\n",
        "np.save(f'{month}.npy', get_track)"
      ],
      "metadata": {
        "id": "WNqoWsW6klnd"
      },
      "execution_count": 12,
      "outputs": []
    },
    {
      "cell_type": "code",
      "execution_count": 13,
      "metadata": {
        "id": "TPTixobdhhmE"
      },
      "outputs": [],
      "source": [
        "track = np.load(f'{month}.npy')"
      ]
    },
    {
      "cell_type": "code",
      "execution_count": 14,
      "metadata": {
        "colab": {
          "base_uri": "https://localhost:8080/",
          "height": 34
        },
        "id": "ePlh3R9rpn1n",
        "outputId": "058ed36b-ca96-4c29-fd37-057ddfc3019d"
      },
      "outputs": [
        {
          "output_type": "display_data",
          "data": {
            "text/plain": [
              "<IPython.core.display.Javascript object>"
            ],
            "application/javascript": [
              "\n",
              "    async function download(id, filename, size) {\n",
              "      if (!google.colab.kernel.accessAllowed) {\n",
              "        return;\n",
              "      }\n",
              "      const div = document.createElement('div');\n",
              "      const label = document.createElement('label');\n",
              "      label.textContent = `Downloading \"${filename}\": `;\n",
              "      div.appendChild(label);\n",
              "      const progress = document.createElement('progress');\n",
              "      progress.max = size;\n",
              "      div.appendChild(progress);\n",
              "      document.body.appendChild(div);\n",
              "\n",
              "      const buffers = [];\n",
              "      let downloaded = 0;\n",
              "\n",
              "      const channel = await google.colab.kernel.comms.open(id);\n",
              "      // Send a message to notify the kernel that we're ready.\n",
              "      channel.send({})\n",
              "\n",
              "      for await (const message of channel.messages) {\n",
              "        // Send a message to notify the kernel that we're ready.\n",
              "        channel.send({})\n",
              "        if (message.buffers) {\n",
              "          for (const buffer of message.buffers) {\n",
              "            buffers.push(buffer);\n",
              "            downloaded += buffer.byteLength;\n",
              "            progress.value = downloaded;\n",
              "          }\n",
              "        }\n",
              "      }\n",
              "      const blob = new Blob(buffers, {type: 'application/binary'});\n",
              "      const a = document.createElement('a');\n",
              "      a.href = window.URL.createObjectURL(blob);\n",
              "      a.download = filename;\n",
              "      div.appendChild(a);\n",
              "      a.click();\n",
              "      div.remove();\n",
              "    }\n",
              "  "
            ]
          },
          "metadata": {}
        },
        {
          "output_type": "display_data",
          "data": {
            "text/plain": [
              "<IPython.core.display.Javascript object>"
            ],
            "application/javascript": [
              "download(\"download_a5884c41-1fd1-42fd-a3d9-053816b41354\", \"june.png\", 58993)"
            ]
          },
          "metadata": {}
        },
        {
          "output_type": "display_data",
          "data": {
            "text/plain": [
              "<Figure size 3600x3600 with 0 Axes>"
            ]
          },
          "metadata": {}
        }
      ],
      "source": [
        "plt.rcParams['figure.figsize'] = [50, 50]\n",
        "for x in range(int((track.size)/6)):\n",
        "  waypoint = track[x]\n",
        "  str1=\"$\"\n",
        "  str2=str(x+1)\n",
        "  str3=str1+str2+str1\n",
        "  for y in range(3):\n",
        "    waypointx = waypoint[2*y]\n",
        "    waypointy = waypoint[2*y+1]\n",
        "    plt.scatter(waypointx, waypointy, marker=str3, s=500, c='black')\n",
        "\n",
        "plt.savefig(f'{month}.png')\n",
        "files.download(f'{month}.png')"
      ]
    },
    {
      "cell_type": "code",
      "execution_count": 7,
      "metadata": {
        "id": "7qmbJ6LshhmI"
      },
      "outputs": [],
      "source": [
        ""
      ]
    }
  ],
  "metadata": {
    "colab": {
      "collapsed_sections": [],
      "name": "DeepRacer Tracks",
      "provenance": []
    },
    "kernelspec": {
      "display_name": "Python 3 (ipykernel)",
      "language": "python",
      "name": "python3"
    },
    "language_info": {
      "codemirror_mode": {
        "name": "ipython",
        "version": 3
      },
      "file_extension": ".py",
      "mimetype": "text/x-python",
      "name": "python",
      "nbconvert_exporter": "python",
      "pygments_lexer": "ipython3",
      "version": "3.8.12"
    }
  },
  "nbformat": 4,
  "nbformat_minor": 0
}